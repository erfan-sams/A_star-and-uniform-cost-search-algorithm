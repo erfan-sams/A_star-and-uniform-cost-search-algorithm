{
  "nbformat": 4,
  "nbformat_minor": 0,
  "metadata": {
    "kernelspec": {
      "display_name": "Python 3",
      "language": "python",
      "name": "python3"
    },
    "language_info": {
      "codemirror_mode": {
        "name": "ipython",
        "version": 3
      },
      "file_extension": ".py",
      "mimetype": "text/x-python",
      "name": "python",
      "nbconvert_exporter": "python",
      "pygments_lexer": "ipython3",
      "version": "3.8.5"
    },
    "latex_envs": {
      "LaTeX_envs_menu_present": true,
      "autoclose": false,
      "autocomplete": true,
      "bibliofile": "biblio.bib",
      "cite_by": "apalike",
      "current_citInitial": 1,
      "eqLabelWithNumbers": true,
      "eqNumInitial": 1,
      "hotkeys": {
        "equation": "Ctrl-E",
        "itemize": "Ctrl-I"
      },
      "labels_anchors": false,
      "latex_user_defs": false,
      "report_style_numbering": false,
      "user_envs_cfg": false
    },
    "toc": {
      "base_numbering": 1,
      "nav_menu": {},
      "number_sections": true,
      "sideBar": true,
      "skip_h1_title": false,
      "title_cell": "Table of Contents",
      "title_sidebar": "Contents",
      "toc_cell": false,
      "toc_position": {},
      "toc_section_display": true,
      "toc_window_display": false
    },
    "colab": {
      "name": "lin-alg-simplex-code.ipynb",
      "provenance": [],
      "collapsed_sections": [],
      "include_colab_link": true
    }
  },
  "cells": [
    {
      "cell_type": "markdown",
      "metadata": {
        "id": "view-in-github",
        "colab_type": "text"
      },
      "source": [
        "<a href=\"https://colab.research.google.com/github/erfan-sams/A_star-and-uniform-cost-search-algorithm/blob/main/lin_alg_simplex_code.ipynb\" target=\"_parent\"><img src=\"https://colab.research.google.com/assets/colab-badge.svg\" alt=\"Open In Colab\"/></a>"
      ]
    },
    {
      "cell_type": "code",
      "metadata": {
        "id": "IAvI6swlBZp7"
      },
      "source": [
        "import numpy as np\n",
        "import pandas as pd\n",
        "from IPython.display import display, HTML\n",
        "np.seterr(divide='ignore')\n",
        "np.set_printoptions(precision=5, suppress=True,edgeitems=9, linewidth=200)\n",
        "np.core.arrayprint._line_width = 180"
      ],
      "execution_count": null,
      "outputs": []
    },
    {
      "cell_type": "code",
      "metadata": {
        "id": "q8FtED9gyUWM"
      },
      "source": [
        "def convert_to_float(frac_str):\n",
        "    try:\n",
        "        return float(frac_str)\n",
        "    except ValueError:\n",
        "        num, denom = frac_str.split('/')\n",
        "        try:\n",
        "            leading, num = num.split(' ')\n",
        "            whole = float(leading)\n",
        "        except ValueError:\n",
        "            whole = 0\n",
        "        frac = np.true_divide(float(num), float(denom))\n",
        "        return whole - frac if whole < 0 else whole + frac"
      ],
      "execution_count": null,
      "outputs": []
    },
    {
      "cell_type": "code",
      "metadata": {
        "id": "91OB2-OhXAs2"
      },
      "source": [
        "def parser(text):\n",
        "  X = dict()\n",
        "  s_text = text.split()\n",
        "  for i in range(0, len(s_text)-1, 2):\n",
        "    snt = s_text[i]\n",
        "    f_var = snt.find(next(filter(str.isalpha, snt)))\n",
        "    if f_var == 0:\n",
        "      tmp = '1'\n",
        "    else:\n",
        "      tmp = snt[:f_var]\n",
        "      \n",
        "    var = snt[f_var:]\n",
        "    if i > 0:\n",
        "      X[var] = (convert_to_float(s_text[i-1]+tmp))\n",
        "    else:\n",
        "      if tmp == '-' or tmp == '+':\n",
        "        tmp += '1'\n",
        "      X[var] = (convert_to_float(tmp))\n",
        "    \n",
        "  X['right_value'] = (convert_to_float(s_text[-1]))\n",
        "\n",
        "  return X"
      ],
      "execution_count": null,
      "outputs": []
    },
    {
      "cell_type": "code",
      "metadata": {
        "id": "4AA9kJ24Aan5"
      },
      "source": [
        "def x_matrix(constraints_list):\n",
        "  X_list = list()\n",
        "  for cons in constraints_list:\n",
        "    tmp = parser(cons)\n",
        "    X_list.append(tmp)\n",
        "  return X_list"
      ],
      "execution_count": null,
      "outputs": []
    },
    {
      "cell_type": "code",
      "metadata": {
        "id": "DeDJ40CFHllA"
      },
      "source": [
        "def row_guess(arg_col,x):  \n",
        "  left_val = x.iloc[1:,arg_col].values\n",
        "  devide_val = np.true_divide(x['right_value'].values[1:], left_val)\n",
        "  arg_row = np.where(left_val > 0, devide_val, np.inf).argmin() + 1\n",
        "  arg_rval = x.iloc[arg_row,arg_col]\n",
        "  if arg_rval > 0:\n",
        "    return (arg_col, arg_row)\n",
        "  return 'infinite result! NBV: ' + str(x.columns[arg_col])"
      ],
      "execution_count": null,
      "outputs": []
    },
    {
      "cell_type": "code",
      "metadata": {
        "id": "kjSSmztDGwXp"
      },
      "source": [
        "def guess(x, status):\n",
        "  bv = x.index[1: ]\n",
        "  if status == 'max':\n",
        "    arg_col = np.argmin(x.values[0][1:-1]) + 1\n",
        "    if x.values[0][arg_col] < 0:\n",
        "      return row_guess(arg_col, x)\n",
        "  else:\n",
        "    arg_col = np.argmax(x.values[0][1:-1]) + 1\n",
        "    if x.values[0][arg_col] > 0:    \n",
        "      return row_guess(arg_col, x)\n",
        "  return 'the end!'"
      ],
      "execution_count": null,
      "outputs": []
    },
    {
      "cell_type": "code",
      "metadata": {
        "id": "mIHsBD3h1GLz"
      },
      "source": [
        "def calculate(x, col,row):\n",
        "  c = x.astype(\"float\")\n",
        "  c[row] = c[row] / c[row][col]\n",
        "  for i in range(x.shape[0]):\n",
        "    if i == row:\n",
        "      continue\n",
        "    c[i] = c[i] + (-1 * c[i][col]) * c[row]\n",
        "  return c"
      ],
      "execution_count": null,
      "outputs": []
    },
    {
      "cell_type": "code",
      "metadata": {
        "id": "dgv4eWb1pO29"
      },
      "source": [
        "def create_table(constraints_list, variables, BV):\n",
        "  columns_order= ['z'] + variables + ['right_value']\n",
        "  index_name = ['z'] + BV\n",
        "  try:\n",
        "    X_list = x_matrix(constraints_list)\n",
        "    # df = pd.DataFrame(X_list, index=index_name).fillna(0)\n",
        "    df = pd.DataFrame(X_list).fillna(0)\n",
        "  except:\n",
        "    print('index:',index_name, 'columns:', variables)\n",
        "    return 'please check your input format.'\n",
        "  df = df.reindex(columns=columns_order)\n",
        "  return df"
      ],
      "execution_count": null,
      "outputs": []
    },
    {
      "cell_type": "code",
      "metadata": {
        "id": "gohe77013M4Z"
      },
      "source": [
        "def sim_alg(df, variables, BV):\n",
        "  p_df = df.copy()\n",
        "  Ct_bv = p_df.iloc[0][BV].values\n",
        "  B_inv = np.linalg.inv(p_df[BV].drop(0))\n",
        "\n",
        "  for var in variables:\n",
        "    df[var][1:] = B_inv @ p_df[var][1:].values                    # a bar\n",
        "    df[var][0] = np.subtract(Ct_bv @ df[var][1:].values, p_df[var][0]) # C bar\n",
        "  df['right_value'][1:] = B_inv @ p_df['right_value'][1:]         # b bar\n",
        "  df['right_value'][0] = Ct_bv @ df['right_value'][1:]            # z bar\n",
        "\n",
        "  return df"
      ],
      "execution_count": null,
      "outputs": []
    },
    {
      "cell_type": "code",
      "metadata": {
        "id": "bXQGQQeycUzz"
      },
      "source": [
        "def index_rename(df):  \n",
        "  index_name = ['z'] + BV\n",
        "  keys_list = df.index.values\n",
        "  values_list = index_name\n",
        "  zip_iterator = zip(keys_list, values_list)\n",
        "  index_dict = dict(zip_iterator)\n",
        "  df = df.rename(index=index_dict)\n",
        "  return df"
      ],
      "execution_count": null,
      "outputs": []
    },
    {
      "cell_type": "code",
      "metadata": {
        "id": "sGarvbA3bWqg"
      },
      "source": [
        "def main(constraints_list, variables, BV, status):\n",
        "  zero_df = create_table(constraints_list, variables, BV)\n",
        "  df = sim_alg(zero_df, variables, BV)\n",
        "  df = index_rename(df)\n",
        "  df[np.abs(df) < np.finfo(np.float).eps] = 0\n",
        "  display(df)\n",
        "  while True:\n",
        "    t = guess(df, status)\n",
        "    if type(t) != tuple:\n",
        "      print(t)\n",
        "      return df\n",
        "    print('incoming variable: {}, outgoing variable: {}'.format(df.columns[t[0]], df.index[t[1]]))\n",
        "    df.values[:] = calculate(df.values, t[0], t[1])\n",
        "    df.rename(index={df.index[t[1]]: df.columns[t[0]]}, inplace=True)\n",
        "    print('\\n','-------'* (len(variables)+2) ,'\\n')\n",
        "    display(df)"
      ],
      "execution_count": null,
      "outputs": []
    },
    {
      "cell_type": "markdown",
      "metadata": {
        "id": "QeE0-bVBpuDL"
      },
      "source": [
        "## question 2 of Linear Optimization exam!\n",
        "\n",
        "<img src = 'https://drive.google.com/uc?id=1U-FCb2mhJS0HmASk_b15GURtKxTv0DPv'>"
      ]
    },
    {
      "cell_type": "code",
      "metadata": {
        "id": "mbVJiyXOubue",
        "colab": {
          "base_uri": "https://localhost:8080/",
          "height": 289
        },
        "outputId": "a14ba6ed-b970-476d-829a-3c00825415c9"
      },
      "source": [
        "# question 2\n",
        "constraints_list = [\n",
        "                    'z + 2x1 + x2 + 4x3 - 5x4 = 0',\n",
        "                    '3x1 + 6x2 + 4x3 + 2x4 - e1 = 60',\n",
        "                    ]\n",
        "status = 'min'\n",
        "variables = ['x1', 'x2', 'x3', 'x4', 'e1'] # order of variables\n",
        "BV = ['x3']\n",
        "\n",
        "df = main(constraints_list, variables, BV, status)"
      ],
      "execution_count": null,
      "outputs": [
        {
          "output_type": "display_data",
          "data": {
            "text/html": [
              "<div>\n",
              "<style scoped>\n",
              "    .dataframe tbody tr th:only-of-type {\n",
              "        vertical-align: middle;\n",
              "    }\n",
              "\n",
              "    .dataframe tbody tr th {\n",
              "        vertical-align: top;\n",
              "    }\n",
              "\n",
              "    .dataframe thead th {\n",
              "        text-align: right;\n",
              "    }\n",
              "</style>\n",
              "<table border=\"1\" class=\"dataframe\">\n",
              "  <thead>\n",
              "    <tr style=\"text-align: right;\">\n",
              "      <th></th>\n",
              "      <th>z</th>\n",
              "      <th>x1</th>\n",
              "      <th>x2</th>\n",
              "      <th>x3</th>\n",
              "      <th>x4</th>\n",
              "      <th>e1</th>\n",
              "      <th>right_value</th>\n",
              "    </tr>\n",
              "  </thead>\n",
              "  <tbody>\n",
              "    <tr>\n",
              "      <th>z</th>\n",
              "      <td>1.0</td>\n",
              "      <td>1.00</td>\n",
              "      <td>5.0</td>\n",
              "      <td>0.0</td>\n",
              "      <td>7.0</td>\n",
              "      <td>-1.00</td>\n",
              "      <td>60.0</td>\n",
              "    </tr>\n",
              "    <tr>\n",
              "      <th>x3</th>\n",
              "      <td>0.0</td>\n",
              "      <td>0.75</td>\n",
              "      <td>1.5</td>\n",
              "      <td>1.0</td>\n",
              "      <td>0.5</td>\n",
              "      <td>-0.25</td>\n",
              "      <td>15.0</td>\n",
              "    </tr>\n",
              "  </tbody>\n",
              "</table>\n",
              "</div>"
            ],
            "text/plain": [
              "      z    x1   x2   x3   x4    e1  right_value\n",
              "z   1.0  1.00  5.0  0.0  7.0 -1.00         60.0\n",
              "x3  0.0  0.75  1.5  1.0  0.5 -0.25         15.0"
            ]
          },
          "metadata": {
            "tags": []
          }
        },
        {
          "output_type": "stream",
          "text": [
            "incoming variable: x4, outgoing variable: x3\n",
            "\n",
            " ------------------------------------------------- \n",
            "\n"
          ],
          "name": "stdout"
        },
        {
          "output_type": "display_data",
          "data": {
            "text/html": [
              "<div>\n",
              "<style scoped>\n",
              "    .dataframe tbody tr th:only-of-type {\n",
              "        vertical-align: middle;\n",
              "    }\n",
              "\n",
              "    .dataframe tbody tr th {\n",
              "        vertical-align: top;\n",
              "    }\n",
              "\n",
              "    .dataframe thead th {\n",
              "        text-align: right;\n",
              "    }\n",
              "</style>\n",
              "<table border=\"1\" class=\"dataframe\">\n",
              "  <thead>\n",
              "    <tr style=\"text-align: right;\">\n",
              "      <th></th>\n",
              "      <th>z</th>\n",
              "      <th>x1</th>\n",
              "      <th>x2</th>\n",
              "      <th>x3</th>\n",
              "      <th>x4</th>\n",
              "      <th>e1</th>\n",
              "      <th>right_value</th>\n",
              "    </tr>\n",
              "  </thead>\n",
              "  <tbody>\n",
              "    <tr>\n",
              "      <th>z</th>\n",
              "      <td>1.0</td>\n",
              "      <td>-9.5</td>\n",
              "      <td>-16.0</td>\n",
              "      <td>-14.0</td>\n",
              "      <td>0.0</td>\n",
              "      <td>2.5</td>\n",
              "      <td>-150.0</td>\n",
              "    </tr>\n",
              "    <tr>\n",
              "      <th>x4</th>\n",
              "      <td>0.0</td>\n",
              "      <td>1.5</td>\n",
              "      <td>3.0</td>\n",
              "      <td>2.0</td>\n",
              "      <td>1.0</td>\n",
              "      <td>-0.5</td>\n",
              "      <td>30.0</td>\n",
              "    </tr>\n",
              "  </tbody>\n",
              "</table>\n",
              "</div>"
            ],
            "text/plain": [
              "      z   x1    x2    x3   x4   e1  right_value\n",
              "z   1.0 -9.5 -16.0 -14.0  0.0  2.5       -150.0\n",
              "x4  0.0  1.5   3.0   2.0  1.0 -0.5         30.0"
            ]
          },
          "metadata": {
            "tags": []
          }
        },
        {
          "output_type": "stream",
          "text": [
            "infinite result! NBV: e1\n"
          ],
          "name": "stdout"
        }
      ]
    },
    {
      "cell_type": "markdown",
      "metadata": {
        "id": "cU-j8cLxqmAJ"
      },
      "source": [
        "##First question from LO_Chapter3 pdf"
      ]
    },
    {
      "cell_type": "code",
      "metadata": {
        "id": "qWRLCQLYTUt9",
        "colab": {
          "base_uri": "https://localhost:8080/",
          "height": 727
        },
        "outputId": "25fb5890-7847-4ab8-d814-3bc6b84f49b8"
      },
      "source": [
        "constraints_list = [\n",
        "                    'z + 60x1 + 30x2 + 20x3 = 0',\n",
        "                    '8x1 + 6x2 + x3 + s1 = 48',\n",
        "                    '4x1 + 2x2 + 3/2x3 + s2 = 20',\n",
        "                    '2x1 + 3/2x2 + 1/2x3 + s3 = 8',\n",
        "                    'x2 + s4 = 5'\n",
        "                    ]\n",
        "status = 'max'\n",
        "variables = ['x1', 'x2', 'x3', 's1', 's2', 's3','s4'] # order of variables\n",
        "BV = ['s1','s2','s3','s4']\n",
        "\n",
        "df = main(constraints_list, variables, BV, status)"
      ],
      "execution_count": null,
      "outputs": [
        {
          "output_type": "display_data",
          "data": {
            "text/html": [
              "<div>\n",
              "<style scoped>\n",
              "    .dataframe tbody tr th:only-of-type {\n",
              "        vertical-align: middle;\n",
              "    }\n",
              "\n",
              "    .dataframe tbody tr th {\n",
              "        vertical-align: top;\n",
              "    }\n",
              "\n",
              "    .dataframe thead th {\n",
              "        text-align: right;\n",
              "    }\n",
              "</style>\n",
              "<table border=\"1\" class=\"dataframe\">\n",
              "  <thead>\n",
              "    <tr style=\"text-align: right;\">\n",
              "      <th></th>\n",
              "      <th>z</th>\n",
              "      <th>x1</th>\n",
              "      <th>x2</th>\n",
              "      <th>x3</th>\n",
              "      <th>s1</th>\n",
              "      <th>s2</th>\n",
              "      <th>s3</th>\n",
              "      <th>s4</th>\n",
              "      <th>right_value</th>\n",
              "    </tr>\n",
              "  </thead>\n",
              "  <tbody>\n",
              "    <tr>\n",
              "      <th>z</th>\n",
              "      <td>1.0</td>\n",
              "      <td>-60.0</td>\n",
              "      <td>-30.0</td>\n",
              "      <td>-20.0</td>\n",
              "      <td>0.0</td>\n",
              "      <td>0.0</td>\n",
              "      <td>0.0</td>\n",
              "      <td>0.0</td>\n",
              "      <td>0.0</td>\n",
              "    </tr>\n",
              "    <tr>\n",
              "      <th>s1</th>\n",
              "      <td>0.0</td>\n",
              "      <td>8.0</td>\n",
              "      <td>6.0</td>\n",
              "      <td>1.0</td>\n",
              "      <td>1.0</td>\n",
              "      <td>0.0</td>\n",
              "      <td>0.0</td>\n",
              "      <td>0.0</td>\n",
              "      <td>48.0</td>\n",
              "    </tr>\n",
              "    <tr>\n",
              "      <th>s2</th>\n",
              "      <td>0.0</td>\n",
              "      <td>4.0</td>\n",
              "      <td>2.0</td>\n",
              "      <td>1.5</td>\n",
              "      <td>0.0</td>\n",
              "      <td>1.0</td>\n",
              "      <td>0.0</td>\n",
              "      <td>0.0</td>\n",
              "      <td>20.0</td>\n",
              "    </tr>\n",
              "    <tr>\n",
              "      <th>s3</th>\n",
              "      <td>0.0</td>\n",
              "      <td>2.0</td>\n",
              "      <td>1.5</td>\n",
              "      <td>0.5</td>\n",
              "      <td>0.0</td>\n",
              "      <td>0.0</td>\n",
              "      <td>1.0</td>\n",
              "      <td>0.0</td>\n",
              "      <td>8.0</td>\n",
              "    </tr>\n",
              "    <tr>\n",
              "      <th>s4</th>\n",
              "      <td>0.0</td>\n",
              "      <td>0.0</td>\n",
              "      <td>1.0</td>\n",
              "      <td>0.0</td>\n",
              "      <td>0.0</td>\n",
              "      <td>0.0</td>\n",
              "      <td>0.0</td>\n",
              "      <td>1.0</td>\n",
              "      <td>5.0</td>\n",
              "    </tr>\n",
              "  </tbody>\n",
              "</table>\n",
              "</div>"
            ],
            "text/plain": [
              "      z    x1    x2    x3   s1   s2   s3   s4  right_value\n",
              "z   1.0 -60.0 -30.0 -20.0  0.0  0.0  0.0  0.0          0.0\n",
              "s1  0.0   8.0   6.0   1.0  1.0  0.0  0.0  0.0         48.0\n",
              "s2  0.0   4.0   2.0   1.5  0.0  1.0  0.0  0.0         20.0\n",
              "s3  0.0   2.0   1.5   0.5  0.0  0.0  1.0  0.0          8.0\n",
              "s4  0.0   0.0   1.0   0.0  0.0  0.0  0.0  1.0          5.0"
            ]
          },
          "metadata": {
            "tags": []
          }
        },
        {
          "output_type": "stream",
          "text": [
            "incoming variable: x1, outgoing variable: s3\n",
            "\n",
            " --------------------------------------------------------------- \n",
            "\n"
          ],
          "name": "stdout"
        },
        {
          "output_type": "display_data",
          "data": {
            "text/html": [
              "<div>\n",
              "<style scoped>\n",
              "    .dataframe tbody tr th:only-of-type {\n",
              "        vertical-align: middle;\n",
              "    }\n",
              "\n",
              "    .dataframe tbody tr th {\n",
              "        vertical-align: top;\n",
              "    }\n",
              "\n",
              "    .dataframe thead th {\n",
              "        text-align: right;\n",
              "    }\n",
              "</style>\n",
              "<table border=\"1\" class=\"dataframe\">\n",
              "  <thead>\n",
              "    <tr style=\"text-align: right;\">\n",
              "      <th></th>\n",
              "      <th>z</th>\n",
              "      <th>x1</th>\n",
              "      <th>x2</th>\n",
              "      <th>x3</th>\n",
              "      <th>s1</th>\n",
              "      <th>s2</th>\n",
              "      <th>s3</th>\n",
              "      <th>s4</th>\n",
              "      <th>right_value</th>\n",
              "    </tr>\n",
              "  </thead>\n",
              "  <tbody>\n",
              "    <tr>\n",
              "      <th>z</th>\n",
              "      <td>1.0</td>\n",
              "      <td>0.0</td>\n",
              "      <td>15.00</td>\n",
              "      <td>-5.00</td>\n",
              "      <td>0.0</td>\n",
              "      <td>0.0</td>\n",
              "      <td>30.0</td>\n",
              "      <td>0.0</td>\n",
              "      <td>240.0</td>\n",
              "    </tr>\n",
              "    <tr>\n",
              "      <th>s1</th>\n",
              "      <td>0.0</td>\n",
              "      <td>0.0</td>\n",
              "      <td>0.00</td>\n",
              "      <td>-1.00</td>\n",
              "      <td>1.0</td>\n",
              "      <td>0.0</td>\n",
              "      <td>-4.0</td>\n",
              "      <td>0.0</td>\n",
              "      <td>16.0</td>\n",
              "    </tr>\n",
              "    <tr>\n",
              "      <th>s2</th>\n",
              "      <td>0.0</td>\n",
              "      <td>0.0</td>\n",
              "      <td>-1.00</td>\n",
              "      <td>0.50</td>\n",
              "      <td>0.0</td>\n",
              "      <td>1.0</td>\n",
              "      <td>-2.0</td>\n",
              "      <td>0.0</td>\n",
              "      <td>4.0</td>\n",
              "    </tr>\n",
              "    <tr>\n",
              "      <th>x1</th>\n",
              "      <td>0.0</td>\n",
              "      <td>1.0</td>\n",
              "      <td>0.75</td>\n",
              "      <td>0.25</td>\n",
              "      <td>0.0</td>\n",
              "      <td>0.0</td>\n",
              "      <td>0.5</td>\n",
              "      <td>0.0</td>\n",
              "      <td>4.0</td>\n",
              "    </tr>\n",
              "    <tr>\n",
              "      <th>s4</th>\n",
              "      <td>0.0</td>\n",
              "      <td>0.0</td>\n",
              "      <td>1.00</td>\n",
              "      <td>0.00</td>\n",
              "      <td>0.0</td>\n",
              "      <td>0.0</td>\n",
              "      <td>0.0</td>\n",
              "      <td>1.0</td>\n",
              "      <td>5.0</td>\n",
              "    </tr>\n",
              "  </tbody>\n",
              "</table>\n",
              "</div>"
            ],
            "text/plain": [
              "      z   x1     x2    x3   s1   s2    s3   s4  right_value\n",
              "z   1.0  0.0  15.00 -5.00  0.0  0.0  30.0  0.0        240.0\n",
              "s1  0.0  0.0   0.00 -1.00  1.0  0.0  -4.0  0.0         16.0\n",
              "s2  0.0  0.0  -1.00  0.50  0.0  1.0  -2.0  0.0          4.0\n",
              "x1  0.0  1.0   0.75  0.25  0.0  0.0   0.5  0.0          4.0\n",
              "s4  0.0  0.0   1.00  0.00  0.0  0.0   0.0  1.0          5.0"
            ]
          },
          "metadata": {
            "tags": []
          }
        },
        {
          "output_type": "stream",
          "text": [
            "incoming variable: x3, outgoing variable: s2\n",
            "\n",
            " --------------------------------------------------------------- \n",
            "\n"
          ],
          "name": "stdout"
        },
        {
          "output_type": "display_data",
          "data": {
            "text/html": [
              "<div>\n",
              "<style scoped>\n",
              "    .dataframe tbody tr th:only-of-type {\n",
              "        vertical-align: middle;\n",
              "    }\n",
              "\n",
              "    .dataframe tbody tr th {\n",
              "        vertical-align: top;\n",
              "    }\n",
              "\n",
              "    .dataframe thead th {\n",
              "        text-align: right;\n",
              "    }\n",
              "</style>\n",
              "<table border=\"1\" class=\"dataframe\">\n",
              "  <thead>\n",
              "    <tr style=\"text-align: right;\">\n",
              "      <th></th>\n",
              "      <th>z</th>\n",
              "      <th>x1</th>\n",
              "      <th>x2</th>\n",
              "      <th>x3</th>\n",
              "      <th>s1</th>\n",
              "      <th>s2</th>\n",
              "      <th>s3</th>\n",
              "      <th>s4</th>\n",
              "      <th>right_value</th>\n",
              "    </tr>\n",
              "  </thead>\n",
              "  <tbody>\n",
              "    <tr>\n",
              "      <th>z</th>\n",
              "      <td>1.0</td>\n",
              "      <td>0.0</td>\n",
              "      <td>5.00</td>\n",
              "      <td>0.0</td>\n",
              "      <td>0.0</td>\n",
              "      <td>10.0</td>\n",
              "      <td>10.0</td>\n",
              "      <td>0.0</td>\n",
              "      <td>280.0</td>\n",
              "    </tr>\n",
              "    <tr>\n",
              "      <th>s1</th>\n",
              "      <td>0.0</td>\n",
              "      <td>0.0</td>\n",
              "      <td>-2.00</td>\n",
              "      <td>0.0</td>\n",
              "      <td>1.0</td>\n",
              "      <td>2.0</td>\n",
              "      <td>-8.0</td>\n",
              "      <td>0.0</td>\n",
              "      <td>24.0</td>\n",
              "    </tr>\n",
              "    <tr>\n",
              "      <th>x3</th>\n",
              "      <td>0.0</td>\n",
              "      <td>0.0</td>\n",
              "      <td>-2.00</td>\n",
              "      <td>1.0</td>\n",
              "      <td>0.0</td>\n",
              "      <td>2.0</td>\n",
              "      <td>-4.0</td>\n",
              "      <td>0.0</td>\n",
              "      <td>8.0</td>\n",
              "    </tr>\n",
              "    <tr>\n",
              "      <th>x1</th>\n",
              "      <td>0.0</td>\n",
              "      <td>1.0</td>\n",
              "      <td>1.25</td>\n",
              "      <td>0.0</td>\n",
              "      <td>0.0</td>\n",
              "      <td>-0.5</td>\n",
              "      <td>1.5</td>\n",
              "      <td>0.0</td>\n",
              "      <td>2.0</td>\n",
              "    </tr>\n",
              "    <tr>\n",
              "      <th>s4</th>\n",
              "      <td>0.0</td>\n",
              "      <td>0.0</td>\n",
              "      <td>1.00</td>\n",
              "      <td>0.0</td>\n",
              "      <td>0.0</td>\n",
              "      <td>0.0</td>\n",
              "      <td>0.0</td>\n",
              "      <td>1.0</td>\n",
              "      <td>5.0</td>\n",
              "    </tr>\n",
              "  </tbody>\n",
              "</table>\n",
              "</div>"
            ],
            "text/plain": [
              "      z   x1    x2   x3   s1    s2    s3   s4  right_value\n",
              "z   1.0  0.0  5.00  0.0  0.0  10.0  10.0  0.0        280.0\n",
              "s1  0.0  0.0 -2.00  0.0  1.0   2.0  -8.0  0.0         24.0\n",
              "x3  0.0  0.0 -2.00  1.0  0.0   2.0  -4.0  0.0          8.0\n",
              "x1  0.0  1.0  1.25  0.0  0.0  -0.5   1.5  0.0          2.0\n",
              "s4  0.0  0.0  1.00  0.0  0.0   0.0   0.0  1.0          5.0"
            ]
          },
          "metadata": {
            "tags": []
          }
        },
        {
          "output_type": "stream",
          "text": [
            "the end!\n"
          ],
          "name": "stdout"
        }
      ]
    },
    {
      "cell_type": "code",
      "metadata": {
        "colab": {
          "base_uri": "https://localhost:8080/",
          "height": 351
        },
        "id": "LSb3Is9sl8ty",
        "outputId": "01d6968e-2dba-4a35-8ba1-cd346238680f"
      },
      "source": [
        "# Exercise 6\n",
        "\n",
        "constraints_list = [\n",
        "                    'z - x1 + 2x2 = 0',\n",
        "                    '3x1 + 4x2 - e1 = 30',\n",
        "                    '-x1 + 2x2 + s2 = 10',\n",
        "                    ]\n",
        "status = 'min' # max\n",
        "variables = ['x1', 'x2', 's2', 'e1'] # order of variables\n",
        "BV = ['x1','x2']\n",
        "\n",
        "df = main(constraints_list, variables, BV, status)"
      ],
      "execution_count": null,
      "outputs": [
        {
          "output_type": "display_data",
          "data": {
            "text/html": [
              "<div>\n",
              "<style scoped>\n",
              "    .dataframe tbody tr th:only-of-type {\n",
              "        vertical-align: middle;\n",
              "    }\n",
              "\n",
              "    .dataframe tbody tr th {\n",
              "        vertical-align: top;\n",
              "    }\n",
              "\n",
              "    .dataframe thead th {\n",
              "        text-align: right;\n",
              "    }\n",
              "</style>\n",
              "<table border=\"1\" class=\"dataframe\">\n",
              "  <thead>\n",
              "    <tr style=\"text-align: right;\">\n",
              "      <th></th>\n",
              "      <th>z</th>\n",
              "      <th>x1</th>\n",
              "      <th>x2</th>\n",
              "      <th>s2</th>\n",
              "      <th>e1</th>\n",
              "      <th>right_value</th>\n",
              "    </tr>\n",
              "  </thead>\n",
              "  <tbody>\n",
              "    <tr>\n",
              "      <th>z</th>\n",
              "      <td>1.0</td>\n",
              "      <td>0.0</td>\n",
              "      <td>0.0</td>\n",
              "      <td>1.0</td>\n",
              "      <td>0.0</td>\n",
              "      <td>10.0</td>\n",
              "    </tr>\n",
              "    <tr>\n",
              "      <th>x1</th>\n",
              "      <td>0.0</td>\n",
              "      <td>1.0</td>\n",
              "      <td>0.0</td>\n",
              "      <td>-0.4</td>\n",
              "      <td>-0.2</td>\n",
              "      <td>2.0</td>\n",
              "    </tr>\n",
              "    <tr>\n",
              "      <th>x2</th>\n",
              "      <td>0.0</td>\n",
              "      <td>0.0</td>\n",
              "      <td>1.0</td>\n",
              "      <td>0.3</td>\n",
              "      <td>-0.1</td>\n",
              "      <td>6.0</td>\n",
              "    </tr>\n",
              "  </tbody>\n",
              "</table>\n",
              "</div>"
            ],
            "text/plain": [
              "      z   x1   x2   s2   e1  right_value\n",
              "z   1.0  0.0  0.0  1.0  0.0         10.0\n",
              "x1  0.0  1.0  0.0 -0.4 -0.2          2.0\n",
              "x2  0.0  0.0  1.0  0.3 -0.1          6.0"
            ]
          },
          "metadata": {
            "tags": []
          }
        },
        {
          "output_type": "stream",
          "text": [
            "incoming variable: s2, outgoing variable: x2\n",
            "\n",
            " ------------------------------------------ \n",
            "\n"
          ],
          "name": "stdout"
        },
        {
          "output_type": "display_data",
          "data": {
            "text/html": [
              "<div>\n",
              "<style scoped>\n",
              "    .dataframe tbody tr th:only-of-type {\n",
              "        vertical-align: middle;\n",
              "    }\n",
              "\n",
              "    .dataframe tbody tr th {\n",
              "        vertical-align: top;\n",
              "    }\n",
              "\n",
              "    .dataframe thead th {\n",
              "        text-align: right;\n",
              "    }\n",
              "</style>\n",
              "<table border=\"1\" class=\"dataframe\">\n",
              "  <thead>\n",
              "    <tr style=\"text-align: right;\">\n",
              "      <th></th>\n",
              "      <th>z</th>\n",
              "      <th>x1</th>\n",
              "      <th>x2</th>\n",
              "      <th>s2</th>\n",
              "      <th>e1</th>\n",
              "      <th>right_value</th>\n",
              "    </tr>\n",
              "  </thead>\n",
              "  <tbody>\n",
              "    <tr>\n",
              "      <th>z</th>\n",
              "      <td>1.0</td>\n",
              "      <td>0.0</td>\n",
              "      <td>-3.333333</td>\n",
              "      <td>0.0</td>\n",
              "      <td>0.333333</td>\n",
              "      <td>-10.0</td>\n",
              "    </tr>\n",
              "    <tr>\n",
              "      <th>x1</th>\n",
              "      <td>0.0</td>\n",
              "      <td>1.0</td>\n",
              "      <td>1.333333</td>\n",
              "      <td>0.0</td>\n",
              "      <td>-0.333333</td>\n",
              "      <td>10.0</td>\n",
              "    </tr>\n",
              "    <tr>\n",
              "      <th>s2</th>\n",
              "      <td>0.0</td>\n",
              "      <td>0.0</td>\n",
              "      <td>3.333333</td>\n",
              "      <td>1.0</td>\n",
              "      <td>-0.333333</td>\n",
              "      <td>20.0</td>\n",
              "    </tr>\n",
              "  </tbody>\n",
              "</table>\n",
              "</div>"
            ],
            "text/plain": [
              "      z   x1        x2   s2        e1  right_value\n",
              "z   1.0  0.0 -3.333333  0.0  0.333333        -10.0\n",
              "x1  0.0  1.0  1.333333  0.0 -0.333333         10.0\n",
              "s2  0.0  0.0  3.333333  1.0 -0.333333         20.0"
            ]
          },
          "metadata": {
            "tags": []
          }
        },
        {
          "output_type": "stream",
          "text": [
            "infinite result! NBV: e1\n"
          ],
          "name": "stdout"
        }
      ]
    }
  ]
}